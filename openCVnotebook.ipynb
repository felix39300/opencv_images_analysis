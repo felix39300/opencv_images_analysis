{
 "cells": [
  {
   "cell_type": "markdown",
   "metadata": {},
   "source": [
    "**OpenCV Basics:** https://www.youtube.com/watch?v=WQeoO7MI0Bs"
   ]
  },
  {
   "cell_type": "markdown",
   "metadata": {},
   "source": [
    "During the use of this notebook, images will appear in browser tabs.**Tab will close automatically when the user presses any key**."
   ]
  },
  {
   "cell_type": "markdown",
   "metadata": {},
   "source": [
    "**Module imports:**"
   ]
  },
  {
   "cell_type": "code",
   "execution_count": 2,
   "metadata": {},
   "outputs": [],
   "source": [
    "import cv2 # open CV module\n",
    "import numpy as np # used to define kernels"
   ]
  },
  {
   "cell_type": "code",
   "execution_count": 3,
   "metadata": {},
   "outputs": [],
   "source": [
    "img = cv2.imread(\"ressources/macron.png\") # read the picture using cv2 module\n",
    "cv2.imshow(\"Original\", img)\n",
    "cv2.waitKey(0)\n",
    "cv2.destroyAllWindows()"
   ]
  },
  {
   "cell_type": "markdown",
   "metadata": {},
   "source": [
    "**Apply grayscale filter:**"
   ]
  },
  {
   "cell_type": "code",
   "execution_count": 4,
   "metadata": {},
   "outputs": [],
   "source": [
    "imgGray = cv2.cvtColor(img,cv2.COLOR_BGR2GRAY) #convert image to wanted color space\n",
    "cv2.imshow(\"GrayScaled\", imgGray)\n",
    "cv2.waitKey(0) #press any keys to close the window\n",
    "cv2.destroyAllWindows() # needed for jupyter notebook compatibility"
   ]
  },
  {
   "cell_type": "markdown",
   "metadata": {},
   "source": [
    "**Apply Gaussian Blur:**"
   ]
  },
  {
   "cell_type": "code",
   "execution_count": 4,
   "metadata": {},
   "outputs": [],
   "source": [
    "imgBlur = cv2.GaussianBlur(img,(11,11),0) # kernel size (needs to be odd numbers)\n",
    "cv2.imshow(\"Blured\", imgBlur)\n",
    "cv2.waitKey(0)\n",
    "cv2.destroyAllWindows()"
   ]
  },
  {
   "cell_type": "markdown",
   "metadata": {},
   "source": [
    "**Apply Edge Detection:**"
   ]
  },
  {
   "cell_type": "code",
   "execution_count": 5,
   "metadata": {},
   "outputs": [],
   "source": [
    "imgCanny = cv2.Canny(img,100,100) #threshold values\n",
    "imgCanny1 = cv2.Canny(img,200,150) #lower treshold => less lines\n",
    "cv2.imshow(\"Edge detection\", imgCanny)\n",
    "cv2.imshow(\"Edge detection, less lines\",imgCanny1)\n",
    "cv2.waitKey(0)\n",
    "cv2.destroyAllWindows()"
   ]
  },
  {
   "cell_type": "markdown",
   "metadata": {},
   "source": [
    "Sometimes if the edges are separated by a **gap**, they may not be detected as a proper line.\n",
    "To counteract this behavior we can **increase the size of the lines**"
   ]
  },
  {
   "cell_type": "code",
   "execution_count": 6,
   "metadata": {},
   "outputs": [],
   "source": [
    "kernel = np.ones((5,5), np.uint8)\n",
    "# uint8 allows values from 0 to 255\n",
    "imgDialation = cv2.dilate(imgCanny, kernel, iterations=1)\n",
    "cv2.imshow(\"Edge detection, biger lines\", imgDialation)\n",
    "cv2.waitKey(0)\n",
    "cv2.destroyAllWindows()"
   ]
  },
  {
   "cell_type": "markdown",
   "metadata": {},
   "source": [
    "**Lines width can also be decreased**."
   ]
  },
  {
   "cell_type": "code",
   "execution_count": 7,
   "metadata": {},
   "outputs": [],
   "source": [
    "imgEroded = cv2.erode(imgDialation, kernel, iterations=1)\n",
    "cv2.imshow(\"Edge detection, smaller lines\", imgEroded)\n",
    "cv2.waitKey(0)\n",
    "cv2.destroyAllWindows()"
   ]
  },
  {
   "cell_type": "code",
   "execution_count": null,
   "metadata": {},
   "outputs": [],
   "source": []
  }
 ],
 "metadata": {
  "kernelspec": {
   "display_name": "Python 3 (ipykernel)",
   "language": "python",
   "name": "python3"
  },
  "language_info": {
   "codemirror_mode": {
    "name": "ipython",
    "version": 3
   },
   "file_extension": ".py",
   "mimetype": "text/x-python",
   "name": "python",
   "nbconvert_exporter": "python",
   "pygments_lexer": "ipython3",
   "version": "3.10.5"
  }
 },
 "nbformat": 4,
 "nbformat_minor": 4
}
